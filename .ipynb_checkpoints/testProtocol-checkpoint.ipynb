{
 "cells": [
  {
   "cell_type": "markdown",
   "metadata": {},
   "source": [
    "# Test Protocol for the benchmark analysis"
   ]
  },
  {
   "cell_type": "markdown",
   "metadata": {},
   "source": [
    "The revised idea for the benchmark analysis pipeline, is to ask from the user the path to the data files that constitute the benchmark data. This input is fed into the pipeline and the results (tool outputs, visualizations are engendered and stored on physical drive as well). "
   ]
  },
  {
   "cell_type": "markdown",
   "metadata": {},
   "source": [
    "Let us commence by instituting the work environment. The tools in question are Chipenrich, Broadenrich, Seq2pathway, Enrichr, and GREAT. We now install the tools and load their respective libraries. "
   ]
  },
  {
   "cell_type": "markdown",
   "metadata": {},
   "source": [
    "The following function code installs the R packages for Chipenrich, Broadenrich, and Seq2pathway. The tools *Enrichr* and *GREAT* are only available as web-interfaces and so the input-output for these have to be catered externally. "
   ]
  },
  {
   "cell_type": "markdown",
   "metadata": {},
   "source": [
    "## Installing Tool Packages"
   ]
  },
  {
   "cell_type": "code",
   "execution_count": 14,
   "metadata": {},
   "outputs": [
    {
     "name": "stderr",
     "output_type": "stream",
     "text": [
      "Bioconductor version 3.9 (BiocManager 1.30.10), R 3.6.0 (2019-04-26)\n",
      "\n",
      "Installing package(s) 'seq2pathway'\n",
      "\n",
      "also installing the dependencies ‘GSA’, ‘seq2pathway.data’\n",
      "\n",
      "\n"
     ]
    },
    {
     "name": "stdout",
     "output_type": "stream",
     "text": [
      "\n",
      "The downloaded binary packages are in\n",
      "\t/var/folders/hm/c3_fjypn62v5xh5b5ygv267m0000gn/T//RtmpJA0jk3/downloaded_packages\n"
     ]
    },
    {
     "name": "stderr",
     "output_type": "stream",
     "text": [
      "installing the source package ‘seq2pathway.data’\n",
      "\n",
      "\n",
      "Old packages: 'Rdpack', 'bibtex', 'broom', 'BH', 'DBI', 'DT', 'MASS',\n",
      "  'RSQLite', 'SparseM', 'boot', 'caTools', 'digest', 'e1071', 'foreign',\n",
      "  'latticeExtra', 'mime', 'pillar', 'quantreg', 'recipes', 'repr',\n",
      "  'reticulate', 'rsconnect', 'vctrs'\n",
      "\n",
      "Bioconductor version 3.9 (BiocManager 1.30.10), R 3.6.0 (2019-04-26)\n",
      "\n",
      "Installing package(s) 'broadenrich'\n",
      "\n",
      "Warning message:\n",
      "“package ‘broadenrich’ is not available (for R version 3.6.0)”\n",
      "Old packages: 'Rdpack', 'bibtex', 'broom', 'BH', 'DBI', 'DT', 'MASS',\n",
      "  'RSQLite', 'SparseM', 'boot', 'caTools', 'digest', 'e1071', 'foreign',\n",
      "  'latticeExtra', 'mime', 'pillar', 'quantreg', 'recipes', 'repr',\n",
      "  'reticulate', 'rsconnect', 'vctrs'\n",
      "\n",
      "Bioconductor version 3.9 (BiocManager 1.30.10), R 3.6.0 (2019-04-26)\n",
      "\n",
      "Installing package(s) 'chipenrich'\n",
      "\n",
      "also installing the dependencies ‘chipenrich.data’, ‘org.Dm.eg.db’, ‘org.Dr.eg.db’, ‘org.Hs.eg.db’, ‘org.Mm.eg.db’, ‘org.Rn.eg.db’\n",
      "\n",
      "\n"
     ]
    },
    {
     "name": "stdout",
     "output_type": "stream",
     "text": [
      "\n",
      "The downloaded binary packages are in\n",
      "\t/var/folders/hm/c3_fjypn62v5xh5b5ygv267m0000gn/T//RtmpJA0jk3/downloaded_packages\n"
     ]
    },
    {
     "name": "stderr",
     "output_type": "stream",
     "text": [
      "installing the source packages ‘chipenrich.data’, ‘org.Dm.eg.db’, ‘org.Dr.eg.db’, ‘org.Hs.eg.db’, ‘org.Mm.eg.db’, ‘org.Rn.eg.db’\n",
      "\n",
      "\n",
      "Old packages: 'Rdpack', 'bibtex', 'broom', 'BH', 'DBI', 'DT', 'MASS',\n",
      "  'RSQLite', 'SparseM', 'boot', 'caTools', 'digest', 'e1071', 'foreign',\n",
      "  'latticeExtra', 'mime', 'pillar', 'quantreg', 'recipes', 'repr',\n",
      "  'reticulate', 'rsconnect', 'vctrs'\n",
      "\n",
      "\n",
      "\n",
      "Warning message:\n",
      "“package ‘rtracklayer’ was built under R version 3.6.1”\n",
      "Loading required package: GenomicRanges\n",
      "\n",
      "Warning message:\n",
      "“package ‘GenomicRanges’ was built under R version 3.6.1”\n",
      "Loading required package: stats4\n",
      "\n",
      "Loading required package: BiocGenerics\n",
      "\n",
      "Loading required package: parallel\n",
      "\n",
      "\n",
      "Attaching package: ‘BiocGenerics’\n",
      "\n",
      "\n",
      "The following objects are masked from ‘package:parallel’:\n",
      "\n",
      "    clusterApply, clusterApplyLB, clusterCall, clusterEvalQ,\n",
      "    clusterExport, clusterMap, parApply, parCapply, parLapply,\n",
      "    parLapplyLB, parRapply, parSapply, parSapplyLB\n",
      "\n",
      "\n",
      "The following objects are masked from ‘package:stats’:\n",
      "\n",
      "    IQR, mad, sd, var, xtabs\n",
      "\n",
      "\n",
      "The following objects are masked from ‘package:base’:\n",
      "\n",
      "    Filter, Find, Map, Position, Reduce, anyDuplicated, append,\n",
      "    as.data.frame, basename, cbind, colnames, dirname, do.call,\n",
      "    duplicated, eval, evalq, get, grep, grepl, intersect, is.unsorted,\n",
      "    lapply, mapply, match, mget, order, paste, pmax, pmax.int, pmin,\n",
      "    pmin.int, rank, rbind, rownames, sapply, setdiff, sort, table,\n",
      "    tapply, union, unique, unsplit, which, which.max, which.min\n",
      "\n",
      "\n",
      "Loading required package: S4Vectors\n",
      "\n",
      "Warning message:\n",
      "“package ‘S4Vectors’ was built under R version 3.6.1”\n",
      "\n",
      "Attaching package: ‘S4Vectors’\n",
      "\n",
      "\n",
      "The following object is masked from ‘package:base’:\n",
      "\n",
      "    expand.grid\n",
      "\n",
      "\n",
      "Loading required package: IRanges\n",
      "\n",
      "Warning message:\n",
      "“package ‘IRanges’ was built under R version 3.6.1”\n",
      "Loading required package: GenomeInfoDb\n",
      "\n",
      "\n",
      "\n",
      "\n",
      "\n",
      "\n",
      "\n",
      "\n",
      "\n",
      "\n",
      "\n",
      "Warning message:\n",
      "“'memory.size()' is Windows-specific”\n"
     ]
    },
    {
     "data": {
      "text/html": [
       "Inf"
      ],
      "text/latex": [
       "Inf"
      ],
      "text/markdown": [
       "Inf"
      ],
      "text/plain": [
       "[1] Inf"
      ]
     },
     "metadata": {},
     "output_type": "display_data"
    }
   ],
   "source": [
    "source(\"./protocolFunctions/installPackagesBenchmark.R\")\n",
    "installPackagesBenchmark()"
   ]
  },
  {
   "cell_type": "markdown",
   "metadata": {},
   "source": [
    "Now that we have all the R-based tools synced in, we shall now move towards assembling the test data. The BED files for the respective samples are available at a local folder. However, for the fuller version of the analysis pipeline I shall have the user input the path for the folder that holds the data files for the benchmark data.  "
   ]
  },
  {
   "cell_type": "markdown",
   "metadata": {},
   "source": [
    "## Installing Support Packages"
   ]
  },
  {
   "cell_type": "markdown",
   "metadata": {},
   "source": [
    "### Devtools"
   ]
  },
  {
   "cell_type": "code",
   "execution_count": 4,
   "metadata": {},
   "outputs": [
    {
     "name": "stderr",
     "output_type": "stream",
     "text": [
      "Bioconductor version 3.9 (BiocManager 1.30.10), R 3.6.0 (2019-04-26)\n",
      "\n",
      "Installing package(s) 'devtools'\n",
      "\n"
     ]
    },
    {
     "name": "stdout",
     "output_type": "stream",
     "text": [
      "\n",
      "The downloaded binary packages are in\n",
      "\t/var/folders/hm/c3_fjypn62v5xh5b5ygv267m0000gn/T//Rtmp44xhlL/downloaded_packages\n"
     ]
    },
    {
     "name": "stderr",
     "output_type": "stream",
     "text": [
      "Old packages: 'Rdpack', 'bibtex', 'broom', 'BH', 'DBI', 'DT', 'MASS',\n",
      "  'RSQLite', 'SparseM', 'boot', 'caTools', 'digest', 'e1071', 'foreign',\n",
      "  'latticeExtra', 'mime', 'pillar', 'quantreg', 'recipes', 'repr',\n",
      "  'reticulate', 'rsconnect', 'vctrs'\n",
      "\n",
      "Loading required package: usethis\n",
      "\n"
     ]
    }
   ],
   "source": [
    "## 'devtools' provides multiple utilitarian functionalities. Let us install this package as well.\n",
    "\n",
    "BiocManager::install('devtools')\n",
    "library(devtools)\n",
    "\n"
   ]
  },
  {
   "cell_type": "markdown",
   "metadata": {},
   "source": [
    "### GenomicRanges"
   ]
  },
  {
   "cell_type": "code",
   "execution_count": 11,
   "metadata": {},
   "outputs": [
    {
     "name": "stderr",
     "output_type": "stream",
     "text": [
      "Bioconductor version 3.9 (BiocManager 1.30.10), R 3.6.0 (2019-04-26)\n",
      "\n",
      "Installing package(s) 'GenomicRanges'\n",
      "\n"
     ]
    },
    {
     "name": "stdout",
     "output_type": "stream",
     "text": [
      "\n",
      "The downloaded binary packages are in\n",
      "\t/var/folders/hm/c3_fjypn62v5xh5b5ygv267m0000gn/T//Rtmp44xhlL/downloaded_packages\n"
     ]
    },
    {
     "name": "stderr",
     "output_type": "stream",
     "text": [
      "Old packages: 'Rdpack', 'bibtex', 'broom', 'BH', 'DBI', 'DT', 'MASS',\n",
      "  'RSQLite', 'SparseM', 'boot', 'caTools', 'digest', 'e1071', 'foreign',\n",
      "  'latticeExtra', 'mime', 'pillar', 'quantreg', 'recipes', 'repr',\n",
      "  'reticulate', 'rsconnect', 'vctrs'\n",
      "\n",
      "Warning message:\n",
      "“package ‘GenomicRanges’ was built under R version 3.6.1”\n",
      "Loading required package: stats4\n",
      "\n",
      "Loading required package: BiocGenerics\n",
      "\n",
      "Loading required package: parallel\n",
      "\n",
      "\n",
      "Attaching package: ‘BiocGenerics’\n",
      "\n",
      "\n",
      "The following objects are masked from ‘package:parallel’:\n",
      "\n",
      "    clusterApply, clusterApplyLB, clusterCall, clusterEvalQ,\n",
      "    clusterExport, clusterMap, parApply, parCapply, parLapply,\n",
      "    parLapplyLB, parRapply, parSapply, parSapplyLB\n",
      "\n",
      "\n",
      "The following objects are masked from ‘package:stats’:\n",
      "\n",
      "    IQR, mad, sd, var, xtabs\n",
      "\n",
      "\n",
      "The following objects are masked from ‘package:base’:\n",
      "\n",
      "    Filter, Find, Map, Position, Reduce, anyDuplicated, append,\n",
      "    as.data.frame, basename, cbind, colnames, dirname, do.call,\n",
      "    duplicated, eval, evalq, get, grep, grepl, intersect, is.unsorted,\n",
      "    lapply, mapply, match, mget, order, paste, pmax, pmax.int, pmin,\n",
      "    pmin.int, rank, rbind, rownames, sapply, setdiff, sort, table,\n",
      "    tapply, union, unique, unsplit, which, which.max, which.min\n",
      "\n",
      "\n",
      "Loading required package: S4Vectors\n",
      "\n",
      "Warning message:\n",
      "“package ‘S4Vectors’ was built under R version 3.6.1”\n",
      "\n",
      "Attaching package: ‘S4Vectors’\n",
      "\n",
      "\n",
      "The following object is masked from ‘package:base’:\n",
      "\n",
      "    expand.grid\n",
      "\n",
      "\n",
      "Loading required package: IRanges\n",
      "\n",
      "Warning message:\n",
      "“package ‘IRanges’ was built under R version 3.6.1”\n",
      "Loading required package: GenomeInfoDb\n",
      "\n"
     ]
    }
   ],
   "source": [
    "BiocManager::install('GenomicRanges')\n",
    "library(GenomicRanges)"
   ]
  },
  {
   "cell_type": "markdown",
   "metadata": {},
   "source": [
    "## Importing Data"
   ]
  },
  {
   "cell_type": "code",
   "execution_count": 16,
   "metadata": {},
   "outputs": [],
   "source": [
    "source(\"./protocolFunctions/dataImportClean.R\")\n",
    "dataImportClean()"
   ]
  },
  {
   "cell_type": "markdown",
   "metadata": {},
   "source": [
    "The list variable 'samplesInBED' holds the data files. Let us look at the data."
   ]
  },
  {
   "cell_type": "code",
   "execution_count": 17,
   "metadata": {},
   "outputs": [
    {
     "ename": "ERROR",
     "evalue": "Error in eval(expr, envir, enclos): object 'samplesInBED' not found\n",
     "output_type": "error",
     "traceback": [
      "Error in eval(expr, envir, enclos): object 'samplesInBED' not found\nTraceback:\n"
     ]
    }
   ],
   "source": [
    "samplesInBED"
   ]
  },
  {
   "cell_type": "code",
   "execution_count": null,
   "metadata": {},
   "outputs": [],
   "source": []
  }
 ],
 "metadata": {
  "kernelspec": {
   "display_name": "R",
   "language": "R",
   "name": "ir"
  },
  "language_info": {
   "codemirror_mode": "r",
   "file_extension": ".r",
   "mimetype": "text/x-r-source",
   "name": "R",
   "pygments_lexer": "r",
   "version": "3.6.0"
  }
 },
 "nbformat": 4,
 "nbformat_minor": 2
}
