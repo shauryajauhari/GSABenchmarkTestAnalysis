{
 "cells": [
  {
   "cell_type": "markdown",
   "metadata": {},
   "source": [
    "# Test Protocol for the Benchmark Analysis"
   ]
  },
  {
   "cell_type": "markdown",
   "metadata": {},
   "source": [
    "The revised idea for the benchmark analysis pipeline, is to ask from the user the path to the data files that constitute the benchmark data. This input is fed into the pipeline and the results (tool outputs, visualizations are engendered and stored on physical drive as well). "
   ]
  },
  {
   "cell_type": "markdown",
   "metadata": {},
   "source": [
    "Let us commence by instituting the work environment. The tools in question are Chipenrich, Broadenrich, Seq2pathway, Enrichr, and GREAT. We now install the tools and load their respective libraries. "
   ]
  },
  {
   "cell_type": "markdown",
   "metadata": {},
   "source": [
    "The following function code installs the R packages for Chipenrich, Broadenrich, and Seq2pathway. The tools *Enrichr* and *GREAT* are only available as web-interfaces and so the input-output for these have to be catered externally. "
   ]
  },
  {
   "cell_type": "markdown",
   "metadata": {},
   "source": [
    "## Installing Tool Packages"
   ]
  },
  {
   "cell_type": "code",
   "execution_count": 1,
   "metadata": {},
   "outputs": [
    {
     "name": "stderr",
     "output_type": "stream",
     "text": [
      "Bioconductor version 3.9 (BiocManager 1.30.10), R 3.6.0 (2019-04-26)\n",
      "\n",
      "Installing package(s) 'seq2pathway'\n",
      "\n"
     ]
    },
    {
     "name": "stdout",
     "output_type": "stream",
     "text": [
      "\n",
      "The downloaded binary packages are in\n",
      "\t/var/folders/hm/c3_fjypn62v5xh5b5ygv267m0000gn/T//RtmpXXHc6s/downloaded_packages\n"
     ]
    },
    {
     "name": "stderr",
     "output_type": "stream",
     "text": [
      "Old packages: 'Rdpack', 'bibtex', 'broom', 'BH', 'DBI', 'DT', 'MASS',\n",
      "  'RSQLite', 'SparseM', 'boot', 'caTools', 'digest', 'e1071', 'foreign',\n",
      "  'latticeExtra', 'mime', 'pillar', 'quantreg', 'recipes', 'repr',\n",
      "  'reticulate', 'rsconnect', 'vctrs'\n",
      "\n",
      "Bioconductor version 3.9 (BiocManager 1.30.10), R 3.6.0 (2019-04-26)\n",
      "\n",
      "Installing package(s) 'broadenrich'\n",
      "\n",
      "Warning message:\n",
      "“package ‘broadenrich’ is not available (for R version 3.6.0)”\n",
      "Old packages: 'Rdpack', 'bibtex', 'broom', 'BH', 'DBI', 'DT', 'MASS',\n",
      "  'RSQLite', 'SparseM', 'boot', 'caTools', 'digest', 'e1071', 'foreign',\n",
      "  'latticeExtra', 'mime', 'pillar', 'quantreg', 'recipes', 'repr',\n",
      "  'reticulate', 'rsconnect', 'vctrs'\n",
      "\n",
      "Bioconductor version 3.9 (BiocManager 1.30.10), R 3.6.0 (2019-04-26)\n",
      "\n",
      "Installing package(s) 'chipenrich'\n",
      "\n"
     ]
    },
    {
     "name": "stdout",
     "output_type": "stream",
     "text": [
      "\n",
      "The downloaded binary packages are in\n",
      "\t/var/folders/hm/c3_fjypn62v5xh5b5ygv267m0000gn/T//RtmpXXHc6s/downloaded_packages\n"
     ]
    },
    {
     "name": "stderr",
     "output_type": "stream",
     "text": [
      "Old packages: 'Rdpack', 'bibtex', 'broom', 'BH', 'DBI', 'DT', 'MASS',\n",
      "  'RSQLite', 'SparseM', 'boot', 'caTools', 'digest', 'e1071', 'foreign',\n",
      "  'latticeExtra', 'mime', 'pillar', 'quantreg', 'recipes', 'repr',\n",
      "  'reticulate', 'rsconnect', 'vctrs'\n",
      "\n",
      "\n",
      "\n",
      "\n",
      "\n",
      "\n",
      "\n",
      "\n",
      "\n",
      "\n",
      "\n",
      "\n",
      "\n",
      "Warning message:\n",
      "“'memory.size()' is Windows-specific”\n"
     ]
    },
    {
     "data": {
      "text/html": [
       "Inf"
      ],
      "text/latex": [
       "Inf"
      ],
      "text/markdown": [
       "Inf"
      ],
      "text/plain": [
       "[1] Inf"
      ]
     },
     "metadata": {},
     "output_type": "display_data"
    }
   ],
   "source": [
    "source(\"./protocolFunctions/installPackagesBenchmark.R\")\n",
    "installPackagesBenchmark()"
   ]
  },
  {
   "cell_type": "markdown",
   "metadata": {},
   "source": [
    "Now that we have all the R-based tools synced in, we shall now move towards assembling the test data. The BED files for the respective samples are available at a local folder. However, for the fuller version of the analysis pipeline I shall have the user input the path for the folder that holds the data files for the benchmark data.  "
   ]
  },
  {
   "cell_type": "markdown",
   "metadata": {},
   "source": [
    "## Installing Support Packages"
   ]
  },
  {
   "cell_type": "markdown",
   "metadata": {},
   "source": [
    "### Devtools"
   ]
  },
  {
   "cell_type": "code",
   "execution_count": 2,
   "metadata": {},
   "outputs": [
    {
     "name": "stderr",
     "output_type": "stream",
     "text": [
      "Bioconductor version 3.9 (BiocManager 1.30.10), R 3.6.0 (2019-04-26)\n",
      "\n",
      "Installing package(s) 'devtools'\n",
      "\n"
     ]
    },
    {
     "name": "stdout",
     "output_type": "stream",
     "text": [
      "\n",
      "The downloaded binary packages are in\n",
      "\t/var/folders/hm/c3_fjypn62v5xh5b5ygv267m0000gn/T//RtmpXXHc6s/downloaded_packages\n"
     ]
    },
    {
     "name": "stderr",
     "output_type": "stream",
     "text": [
      "Old packages: 'Rdpack', 'bibtex', 'broom', 'BH', 'DBI', 'DT', 'MASS',\n",
      "  'RSQLite', 'SparseM', 'boot', 'caTools', 'digest', 'e1071', 'foreign',\n",
      "  'latticeExtra', 'mime', 'pillar', 'quantreg', 'recipes', 'repr',\n",
      "  'reticulate', 'rsconnect', 'vctrs'\n",
      "\n",
      "Loading required package: usethis\n",
      "\n"
     ]
    }
   ],
   "source": [
    "## 'devtools' provides multiple utilitarian functionalities. Let us install this package as well.\n",
    "\n",
    "BiocManager::install('devtools')\n",
    "library(devtools)\n",
    "\n"
   ]
  },
  {
   "cell_type": "markdown",
   "metadata": {},
   "source": [
    "### GenomicRanges"
   ]
  },
  {
   "cell_type": "code",
   "execution_count": 3,
   "metadata": {},
   "outputs": [
    {
     "name": "stderr",
     "output_type": "stream",
     "text": [
      "Bioconductor version 3.9 (BiocManager 1.30.10), R 3.6.0 (2019-04-26)\n",
      "\n",
      "Installing package(s) 'GenomicRanges'\n",
      "\n"
     ]
    },
    {
     "name": "stdout",
     "output_type": "stream",
     "text": [
      "\n",
      "The downloaded binary packages are in\n",
      "\t/var/folders/hm/c3_fjypn62v5xh5b5ygv267m0000gn/T//RtmpXXHc6s/downloaded_packages\n"
     ]
    },
    {
     "name": "stderr",
     "output_type": "stream",
     "text": [
      "Old packages: 'Rdpack', 'bibtex', 'broom', 'BH', 'DBI', 'DT', 'MASS',\n",
      "  'RSQLite', 'SparseM', 'boot', 'caTools', 'digest', 'e1071', 'foreign',\n",
      "  'latticeExtra', 'mime', 'pillar', 'quantreg', 'recipes', 'repr',\n",
      "  'reticulate', 'rsconnect', 'vctrs'\n",
      "\n",
      "Warning message:\n",
      "“package ‘GenomicRanges’ was built under R version 3.6.1”\n",
      "Loading required package: stats4\n",
      "\n",
      "Loading required package: BiocGenerics\n",
      "\n",
      "Loading required package: parallel\n",
      "\n",
      "\n",
      "Attaching package: ‘BiocGenerics’\n",
      "\n",
      "\n",
      "The following objects are masked from ‘package:parallel’:\n",
      "\n",
      "    clusterApply, clusterApplyLB, clusterCall, clusterEvalQ,\n",
      "    clusterExport, clusterMap, parApply, parCapply, parLapply,\n",
      "    parLapplyLB, parRapply, parSapply, parSapplyLB\n",
      "\n",
      "\n",
      "The following objects are masked from ‘package:stats’:\n",
      "\n",
      "    IQR, mad, sd, var, xtabs\n",
      "\n",
      "\n",
      "The following objects are masked from ‘package:base’:\n",
      "\n",
      "    Filter, Find, Map, Position, Reduce, anyDuplicated, append,\n",
      "    as.data.frame, basename, cbind, colnames, dirname, do.call,\n",
      "    duplicated, eval, evalq, get, grep, grepl, intersect, is.unsorted,\n",
      "    lapply, mapply, match, mget, order, paste, pmax, pmax.int, pmin,\n",
      "    pmin.int, rank, rbind, rownames, sapply, setdiff, sort, table,\n",
      "    tapply, union, unique, unsplit, which, which.max, which.min\n",
      "\n",
      "\n",
      "Loading required package: S4Vectors\n",
      "\n",
      "Warning message:\n",
      "“package ‘S4Vectors’ was built under R version 3.6.1”\n",
      "\n",
      "Attaching package: ‘S4Vectors’\n",
      "\n",
      "\n",
      "The following object is masked from ‘package:base’:\n",
      "\n",
      "    expand.grid\n",
      "\n",
      "\n",
      "Loading required package: IRanges\n",
      "\n",
      "Warning message:\n",
      "“package ‘IRanges’ was built under R version 3.6.1”\n",
      "Loading required package: GenomeInfoDb\n",
      "\n"
     ]
    }
   ],
   "source": [
    "BiocManager::install('GenomicRanges')\n",
    "library(GenomicRanges)"
   ]
  },
  {
   "cell_type": "markdown",
   "metadata": {},
   "source": [
    "## Importing Data"
   ]
  },
  {
   "cell_type": "code",
   "execution_count": 12,
   "metadata": {},
   "outputs": [],
   "source": [
    "source(\"./protocolFunctions/dataImportClean.R\")\n",
    "dataImportClean()"
   ]
  },
  {
   "cell_type": "markdown",
   "metadata": {},
   "source": [
    "The list variable 'samplesInBED' holds the data files. Let us look at the data."
   ]
  },
  {
   "cell_type": "code",
   "execution_count": 13,
   "metadata": {},
   "outputs": [],
   "source": [
    "samplesInBED <- readRDS(\"samplesInBED.rds\")\n",
    "ChIPSeqSamples <- readRDS(\"ChIPSeqSamples.rds\")"
   ]
  },
  {
   "cell_type": "code",
   "execution_count": 14,
   "metadata": {},
   "outputs": [
    {
     "data": {
      "text/plain": [
       "GRangesList object of length 10:\n",
       "$GSM1847178 \n",
       "GRanges object with 17638 ranges and 0 metadata columns:\n",
       "          seqnames            ranges strand\n",
       "             <Rle>         <IRanges>  <Rle>\n",
       "      [1]     chr1     875900-876000      *\n",
       "      [2]     chr1     878500-878600      *\n",
       "      [3]     chr1     901700-901800      *\n",
       "      [4]     chr1     941900-942000      *\n",
       "      [5]     chr1     999500-999800      *\n",
       "      ...      ...               ...    ...\n",
       "  [17634]     chrY 58991300-58991600      *\n",
       "  [17635]     chrY 58993100-58993300      *\n",
       "  [17636]     chrY 59000500-59000600      *\n",
       "  [17637]     chrY 59013700-59013800      *\n",
       "  [17638]     chrY 59020600-59020800      *\n",
       "\n",
       "...\n",
       "<9 more elements>\n",
       "-------\n",
       "seqinfo: 64 sequences from hg38 genome; no seqlengths"
      ]
     },
     "metadata": {},
     "output_type": "display_data"
    }
   ],
   "source": [
    "samplesInBED"
   ]
  },
  {
   "cell_type": "markdown",
   "metadata": {},
   "source": [
    "So, we see that we have 10 samples listed in GRanges format. These will be our input to the tools and the basis for comparison."
   ]
  },
  {
   "cell_type": "markdown",
   "metadata": {},
   "source": [
    "## Executing Chipenrich, Broadenrich, Seq2pathway"
   ]
  },
  {
   "cell_type": "markdown",
   "metadata": {},
   "source": [
    "While executing the following function we make an attempt to save the results as R objects and concurrently remove them from active memory for sufficiency."
   ]
  },
  {
   "cell_type": "markdown",
   "metadata": {},
   "source": []
  },
  {
   "cell_type": "code",
   "execution_count": 15,
   "metadata": {},
   "outputs": [
    {
     "name": "stderr",
     "output_type": "stream",
     "text": [
      "Reading peaks from ./testData/GSM1847178.bed\n",
      "\n"
     ]
    },
    {
     "ename": "ERROR",
     "evalue": "Error in seq2pathway_run(regenerated_samples[[i]]): could not find function \"seq2pathway_run\"\n",
     "output_type": "error",
     "traceback": [
      "Error in seq2pathway_run(regenerated_samples[[i]]): could not find function \"seq2pathway_run\"\nTraceback:\n",
      "1. executeChipenrichBroadenrichSeq2pathway()"
     ]
    }
   ],
   "source": [
    "source(\"./protocolFunctions/executeChipenrichBroadenrichSeq2pathway.R\")\n",
    "executeChipenrichBroadenrichSeq2pathway()"
   ]
  },
  {
   "cell_type": "code",
   "execution_count": null,
   "metadata": {},
   "outputs": [],
   "source": []
  }
 ],
 "metadata": {
  "kernelspec": {
   "display_name": "R",
   "language": "R",
   "name": "ir"
  },
  "language_info": {
   "codemirror_mode": "r",
   "file_extension": ".r",
   "mimetype": "text/x-r-source",
   "name": "R",
   "pygments_lexer": "r",
   "version": "3.6.0"
  }
 },
 "nbformat": 4,
 "nbformat_minor": 2
}
